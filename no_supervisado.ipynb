{
  "nbformat": 4,
  "nbformat_minor": 0,
  "metadata": {
    "colab": {
      "provenance": []
    },
    "kernelspec": {
      "name": "python3",
      "display_name": "Python 3"
    },
    "language_info": {
      "name": "python"
    }
  },
  "cells": [
    {
      "cell_type": "markdown",
      "source": [
        "## Actividad 2: Aprendizaje no supervisado\n",
        "\n",
        "En este notebook utilizaremos dos algoritmos de aprendizaje supervizado para resolver un problema de clusterización, primero utilizamos el algoritmo UMAP (Uniform Manifold Approximation and Projection) para hacer reducción de caracteristicas y asi poder graficar los datos en dos dimensiones, luego utilizaremos el algoritmo de k-means para agrupar los datos y asi etiquetarlos.\n",
        "\n",
        "El problema que vamos a resolver se basa en que a partir de un dataset con información de algunas características del vino, ver si el vino se puede agrupar en dierentes tipos."
      ],
      "metadata": {
        "id": "paJ9aaSP0Pj3"
      }
    },
    {
      "cell_type": "code",
      "source": [
        "# UMAP es un algoritmo de aprendizaje no supervisado para reducción de características, usualmente utilizado para poder visualizar los datos en 2 o 3 dimensiones, no viene instalado por deecto en los notebooks de google colab\n",
        "!pip install umap-learn"
      ],
      "metadata": {
        "id": "-xqNuQP8u1X-"
      },
      "execution_count": null,
      "outputs": []
    },
    {
      "cell_type": "code",
      "execution_count": 3,
      "metadata": {
        "id": "eGbNT0B8t1Ws"
      },
      "outputs": [],
      "source": [
        "import pandas as pd\n",
        "from umap import UMAP\n",
        "from sklearn.cluster import KMeans, DBSCAN\n",
        "import plotly.express as px\n",
        "from matplotlib import pyplot as plt"
      ]
    },
    {
      "cell_type": "markdown",
      "source": [
        "## Carga de dataset\n"
      ],
      "metadata": {
        "id": "BvvZeQCM1fU_"
      }
    },
    {
      "cell_type": "code",
      "source": [
        "path = 'https://raw.githubusercontent.com/eyberthrojas/Actividad_2/main/wine-clustering.csv'\n",
        "df = pd.read_csv(path, on_bad_lines='skip')"
      ],
      "metadata": {
        "id": "_pmvDed_uZfK"
      },
      "execution_count": 4,
      "outputs": []
    },
    {
      "cell_type": "code",
      "source": [
        "df.head()"
      ],
      "metadata": {
        "id": "rpvs-IHJufZF"
      },
      "execution_count": null,
      "outputs": []
    },
    {
      "cell_type": "code",
      "source": [
        "print(f'Se cuenta con un dataset de {df.shape[0]} muestras con {df.shape[1]} diferentes caracteristicas')"
      ],
      "metadata": {
        "id": "-fnflADLuiBe"
      },
      "execution_count": null,
      "outputs": []
    },
    {
      "cell_type": "code",
      "source": [
        "reducer = UMAP(n_components=2, random_state=0)"
      ],
      "metadata": {
        "id": "jgz4ZrRAvjrA"
      },
      "execution_count": 21,
      "outputs": []
    },
    {
      "cell_type": "code",
      "source": [
        "# Fit and transform the data\n",
        "X_trans = reducer.fit_transform(df)"
      ],
      "metadata": {
        "id": "ScjF5W9nv5CP"
      },
      "execution_count": 22,
      "outputs": []
    },
    {
      "cell_type": "code",
      "source": [
        "X_trans.shape"
      ],
      "metadata": {
        "id": "tIdH5WT_3IJD"
      },
      "execution_count": null,
      "outputs": []
    },
    {
      "cell_type": "code",
      "source": [
        "df_trans = pd.DataFrame(X_trans, columns=['x', 'y'])"
      ],
      "metadata": {
        "id": "qcruIZNNwAFS"
      },
      "execution_count": 24,
      "outputs": []
    },
    {
      "cell_type": "code",
      "source": [
        "print(f'Como vemos se reucen las caracteristicas de {df.shape[1]} a {df_trans.shape[1]}')"
      ],
      "metadata": {
        "id": "Aj0Tbz1F9oVv"
      },
      "execution_count": null,
      "outputs": []
    },
    {
      "cell_type": "code",
      "source": [
        "# Creando Grafica 2d\n",
        "fig = px.scatter(df_trans, x='x', y='y', height=500, width=550)"
      ],
      "metadata": {
        "id": "-J1z1ANfwORw"
      },
      "execution_count": 26,
      "outputs": []
    },
    {
      "cell_type": "code",
      "source": [
        "fig.show()"
      ],
      "metadata": {
        "id": "6khFAIiHxI45"
      },
      "execution_count": null,
      "outputs": []
    },
    {
      "cell_type": "markdown",
      "source": [
        "A primera vista se observa que contamos con 4 grupos o categorias, utilicemos el algoritmo de k-means para ver como quedan agrupados"
      ],
      "metadata": {
        "id": "_GV1CwA8yRIW"
      }
    },
    {
      "cell_type": "code",
      "source": [
        "kmeans = KMeans(n_clusters=4)\n",
        "kmeans.fit(df)\n",
        "\n",
        "# Predicción de los grupos a los que pertenecen los datos\n",
        "y_pred = kmeans.predict(df)"
      ],
      "metadata": {
        "id": "ZgZRsBGfxOBQ"
      },
      "execution_count": null,
      "outputs": []
    },
    {
      "cell_type": "code",
      "source": [
        "y_pred"
      ],
      "metadata": {
        "id": "L61NiltUzFdl"
      },
      "execution_count": null,
      "outputs": []
    },
    {
      "cell_type": "code",
      "source": [
        "fig = px.scatter(df_trans, x='x', y='y', color=y_pred, height=500, width=500)"
      ],
      "metadata": {
        "id": "fqkL9ZU9zKso"
      },
      "execution_count": 30,
      "outputs": []
    },
    {
      "cell_type": "code",
      "source": [
        "fig.show()"
      ],
      "metadata": {
        "id": "GqyyyzDgzlhT"
      },
      "execution_count": null,
      "outputs": []
    },
    {
      "cell_type": "markdown",
      "source": [
        "En este caso parece que 4 es el número adecuado de clusters, vamos a comprobarlo con el WCSS"
      ],
      "metadata": {
        "id": "j7KReIJ0-CTG"
      }
    },
    {
      "cell_type": "markdown",
      "source": [
        "El WCSS (Within-Cluster Sum of Squares) es una medida utilizada en el algoritmo K-Means para evaluar la calidad de los grupos creados. El objetivo del algoritmo K-Means es minimizar el WCSS, que representa la suma de las distancias al cuadrado de cada punto al centroide de su grupo.\n",
        "\n",
        "El WCSS se utiliza para determinar el número óptimo de grupos que deben utilizarse en el algoritmo K-Means. La idea es ejecutar el algoritmo K-Means varias veces con diferentes números de grupos y comparar el valor de WCSS para cada ejecución. Si el valor de WCSS disminuye significativamente cuando se aumenta el número de grupos, es posible que se esté produciendo un sobreajuste. Por otro lado, si el valor de WCSS no disminuye mucho cuando se aumenta el número de grupos, es posible que se esté produciendo un subajuste.\n",
        "\n",
        "Por lo tanto, se puede utilizar el WCSS para determinar el número óptimo de grupos para el conjunto de datos en cuestión. Por ejemplo, se puede trazar una gráfica del valor de WCSS en función del número de grupos y seleccionar el punto en el que la disminución en el valor de WCSS comienza a disminuir drásticamente. Este será el número óptimo de grupos para el conjunto de datos."
      ],
      "metadata": {
        "id": "03LXhZ4a9JMh"
      }
    },
    {
      "cell_type": "code",
      "source": [
        "wcss = []\n",
        "for i in range(1, 11):\n",
        "    kmeans = KMeans(n_clusters=i, init='k-means++', max_iter=300, n_init=10, random_state=0)\n",
        "    kmeans.fit(df)\n",
        "    wcss.append(kmeans.inertia_)\n",
        "plt.plot(range(1, 11), wcss)\n",
        "plt.title('Elbow Method')\n",
        "plt.xlabel('Number of clusters')\n",
        "plt.ylabel('WCSS')\n",
        "plt.show()"
      ],
      "metadata": {
        "id": "jxB_dotl6YQR"
      },
      "execution_count": null,
      "outputs": []
    },
    {
      "cell_type": "code",
      "source": [],
      "metadata": {
        "id": "bniuUsFu7D2n"
      },
      "execution_count": null,
      "outputs": []
    }
  ]
}