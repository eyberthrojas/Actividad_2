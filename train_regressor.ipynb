{
  "nbformat": 4,
  "nbformat_minor": 0,
  "metadata": {
    "colab": {
      "provenance": []
    },
    "kernelspec": {
      "name": "python3",
      "display_name": "Python 3"
    },
    "language_info": {
      "name": "python"
    }
  },
  "cells": [
    {
      "cell_type": "markdown",
      "source": [
        "## Actividad 2: Entrenamiento de modelo para regresion\n",
        "\n",
        "En el presente notebook que realiza el paso a paso para entrenamiento de modelo de aprendizaje supervisado que resuleve el problema de regresión para predecir el valor del alquiler de un inmueble según Airbnb"
      ],
      "metadata": {
        "id": "P2oxDlc9Mvo2"
      }
    },
    {
      "cell_type": "code",
      "execution_count": 1,
      "metadata": {
        "id": "jr6EU2hazcAf"
      },
      "outputs": [],
      "source": [
        "import pandas as pd\n",
        "import numpy as np\n",
        "\n",
        "from sklearn.linear_model import LinearRegression\n",
        "from sklearn.model_selection import train_test_split\n",
        "from sklearn.pipeline import FeatureUnion, Pipeline\n",
        "from sklearn.base import BaseEstimator, TransformerMixin\n",
        "from sklearn.preprocessing import OneHotEncoder, StandardScaler\n",
        "from sklearn.metrics import r2_score\n",
        "from sklearn.ensemble import RandomForestRegressor"
      ]
    },
    {
      "cell_type": "markdown",
      "source": [
        "Clase para extraer columnas de un DataFrame de pandas y si es necesario, aplicarle un encoder"
      ],
      "metadata": {
        "id": "jEqYaVrWNU2x"
      }
    },
    {
      "cell_type": "code",
      "source": [
        "class FeatureExtractor(BaseEstimator, TransformerMixin):\n",
        "    \n",
        "    def __init__(self, columns: list, transformer=None):\n",
        "        self.columns = columns\n",
        "        self.transformer = transformer\n",
        "\n",
        "    def fit(self, X: dict, y=None, **fit_params):\n",
        "        \"\"\"\n",
        "        Fit vectorizer\n",
        "        \"\"\"\n",
        "        X = dict((k, X[k]) for k in self.columns)\n",
        "        data = np.array(list(X.values()))\n",
        "        if self.transformer is not None:\n",
        "            self.transformer.fit(data.transpose(), y, **fit_params)\n",
        "\n",
        "        return self\n",
        "\n",
        "    def transform(self, X: dict, **transform_params):\n",
        "        \"\"\"\n",
        "        Return column(s)\n",
        "        \"\"\"\n",
        "        X = dict((k, X[k]) for k in self.columns)\n",
        "        data = np.array(list(X.values()))\n",
        "        if self.transformer is not None:\n",
        "            tfs = self.transformer.transform(\n",
        "                data.transpose(),\n",
        "                **transform_params\n",
        "            )\n",
        "            return tfs\n",
        "        else:\n",
        "            return data.transpose()"
      ],
      "metadata": {
        "id": "14h5Lo5vBWSJ"
      },
      "execution_count": 2,
      "outputs": []
    },
    {
      "cell_type": "code",
      "source": [
        "pd.options.display.max_columns = 100"
      ],
      "metadata": {
        "id": "5E-gAzTXz-J1"
      },
      "execution_count": 3,
      "outputs": []
    },
    {
      "cell_type": "markdown",
      "source": [
        "## Carga de dataset limpio"
      ],
      "metadata": {
        "id": "VicW1aX6NoBm"
      }
    },
    {
      "cell_type": "code",
      "source": [
        "path = 'https://raw.githubusercontent.com/eyberthrojas/Actividad_2/main/dataset_cleanned_airbnb_seatle.csv'\n",
        "df = pd.read_csv(path, on_bad_lines='skip')"
      ],
      "metadata": {
        "id": "XzI4rBe5zy7U"
      },
      "execution_count": 4,
      "outputs": []
    },
    {
      "cell_type": "code",
      "source": [
        "df.sample(3)"
      ],
      "metadata": {
        "id": "Qn_GAcdF0FcZ"
      },
      "execution_count": null,
      "outputs": []
    },
    {
      "cell_type": "markdown",
      "source": [
        "Primero que todo eliminamos las columnas que tienen correlación nula con la columna \"price\" segun el proiceso de ETL realizado en la actividad 1."
      ],
      "metadata": {
        "id": "fLag5jxN3w5e"
      }
    },
    {
      "cell_type": "code",
      "source": [
        "df.drop(labels=['requires_license', 'has_availability', 'square_feet'], axis=1, inplace=True)"
      ],
      "metadata": {
        "id": "UfPjz4L-0HiB"
      },
      "execution_count": 6,
      "outputs": []
    },
    {
      "cell_type": "markdown",
      "source": [
        "Vamos a entrenar un modelo de regresión utilizando la arquitectura randon_orest_regressor, pero antes de deben eliminar o reemplazar por algun valor los NAN.\n",
        "\n",
        "- primero eliminado las filas que contengan algun valor NAN"
      ],
      "metadata": {
        "id": "1WSmcq_1-NOo"
      }
    },
    {
      "cell_type": "code",
      "source": [
        "df.shape"
      ],
      "metadata": {
        "id": "Sp0aRwz9_cm7"
      },
      "execution_count": null,
      "outputs": []
    },
    {
      "cell_type": "code",
      "source": [
        "df_nan = df.dropna().copy()\n",
        "df_nan.shape"
      ],
      "metadata": {
        "id": "afhhJMb0-K3o"
      },
      "execution_count": null,
      "outputs": []
    },
    {
      "cell_type": "markdown",
      "source": [
        "Como vemos, se eliminan casi la tercera parte de los casos, podemos estar perdiendo mucha información, vamos a entrenar el modelo:"
      ],
      "metadata": {
        "id": "3Uus0EO-_VeQ"
      }
    },
    {
      "cell_type": "code",
      "source": [
        "X = df_nan.drop(['price'],axis = 1)\n",
        "y = df_nan['price']"
      ],
      "metadata": {
        "id": "jEW-i9j-_GAR"
      },
      "execution_count": 9,
      "outputs": []
    },
    {
      "cell_type": "code",
      "source": [
        "categoricas =list(X.select_dtypes(include=['object','category']).columns)\n",
        "numericas = list(X.select_dtypes(include='number').columns)"
      ],
      "metadata": {
        "id": "iW4iJK3s9ZjI"
      },
      "execution_count": 10,
      "outputs": []
    },
    {
      "cell_type": "code",
      "source": [
        "# Variables categoricas\n",
        "categoricas"
      ],
      "metadata": {
        "id": "CNkYEqLx9Zl0"
      },
      "execution_count": null,
      "outputs": []
    },
    {
      "cell_type": "code",
      "source": [
        "# Variables numéricas\n",
        "numericas"
      ],
      "metadata": {
        "id": "2liajnR79Zqw"
      },
      "execution_count": null,
      "outputs": []
    },
    {
      "cell_type": "code",
      "source": [
        "X_train, X_test, y_train, y_test = train_test_split(X, y, test_size = .20, random_state=42)"
      ],
      "metadata": {
        "id": "0Mj8KhFu9Ztc"
      },
      "execution_count": 13,
      "outputs": []
    },
    {
      "cell_type": "code",
      "source": [
        "# Union de caracteristicas categoricas y numéricas codificadas\n",
        "features = FeatureUnion([\n",
        "    ('categorical_features', FeatureExtractor(columns=categoricas, transformer=OneHotEncoder(handle_unknown='ignore'))),\n",
        "    ('numeric_features', FeatureExtractor(columns=numericas, transformer=StandardScaler()))\n",
        "])"
      ],
      "metadata": {
        "id": "ZMC4d7Cu9ZwB"
      },
      "execution_count": 14,
      "outputs": []
    },
    {
      "cell_type": "code",
      "source": [
        "# Construcción de pipeline del modelo\n",
        "model = Pipeline([\n",
        "    ('features', features),\n",
        "    ('model', RandomForestRegressor(n_estimators=100, criterion = 'friedman_mse'))\n",
        "])"
      ],
      "metadata": {
        "id": "OKZP1QucCaAW"
      },
      "execution_count": 18,
      "outputs": []
    },
    {
      "cell_type": "code",
      "source": [
        "model.fit(X_train, y_train)"
      ],
      "metadata": {
        "id": "ia7X0LJ440hz"
      },
      "execution_count": null,
      "outputs": []
    },
    {
      "cell_type": "code",
      "source": [
        "train_preds = model.predict(X_train)\n",
        "test_preds = model.predict(X_test)"
      ],
      "metadata": {
        "id": "Iu_AjGvy6ZHD"
      },
      "execution_count": 20,
      "outputs": []
    },
    {
      "cell_type": "markdown",
      "source": [
        "La métrica más común para evaluar un modelo de regresión es el r2_score, es una medida de la calidad de ajuste de un modelo de regresión. Es un número entre 0 y 1 que indica la proporción de la varianza en la variable de salida que es explicada por el modelo.\n",
        "\n",
        "Un R2 score de 1 indica que el modelo ajusta perfectamente los datos, mientras que un R2 score de 0 indica que el modelo no explica nada de la variabilidad en la variable de salida."
      ],
      "metadata": {
        "id": "kQj3UzezOv2M"
      }
    },
    {
      "cell_type": "code",
      "source": [
        "print(f'r2_score con datos de entrenamiento: {r2_score(y_train, train_preds)}')\n",
        "print(f'r2_score con datos de test: {r2_score(y_test, test_preds)}')"
      ],
      "metadata": {
        "id": "-FviedSf6jhI"
      },
      "execution_count": null,
      "outputs": []
    },
    {
      "cell_type": "markdown",
      "source": [
        "Ahora probemos no eliminando los NAN por el valor promedio de la columna:"
      ],
      "metadata": {
        "id": "dkOQUhsZGb8D"
      }
    },
    {
      "cell_type": "code",
      "source": [
        "# Primero eliminamos los NAN de la variables categoricas\n",
        "df_mean = df.dropna(subset=categoricas+['price'], axis=0)\n",
        "# Luego, rellenamos los NaN con el valor promedio de la columna\n",
        "for numerica in numericas:\n",
        "  df_mean[numerica] = df_mean[numerica].fillna(df_mean[numerica].mean())"
      ],
      "metadata": {
        "id": "ERETFDF17HAk"
      },
      "execution_count": null,
      "outputs": []
    },
    {
      "cell_type": "code",
      "source": [
        "df_mean.head()"
      ],
      "metadata": {
        "id": "ff7TxdPZGqfZ"
      },
      "execution_count": null,
      "outputs": []
    },
    {
      "cell_type": "code",
      "source": [
        "df_mean.shape"
      ],
      "metadata": {
        "id": "hR4CVJDhJtmC"
      },
      "execution_count": null,
      "outputs": []
    },
    {
      "cell_type": "code",
      "source": [
        "X = df_mean.drop(['price'],axis = 1)\n",
        "y = df_mean['price']"
      ],
      "metadata": {
        "id": "BA1lkL-zHFGU"
      },
      "execution_count": 25,
      "outputs": []
    },
    {
      "cell_type": "code",
      "source": [
        "X_train, X_test, y_train, y_test = train_test_split(X, y, test_size = .20, random_state=42)"
      ],
      "metadata": {
        "id": "RvMSrltkJlcG"
      },
      "execution_count": 26,
      "outputs": []
    },
    {
      "cell_type": "code",
      "source": [
        "model_2 = Pipeline([\n",
        "    ('features', features),\n",
        "    ('model', RandomForestRegressor(n_estimators=100, criterion = 'friedman_mse'))\n",
        "])"
      ],
      "metadata": {
        "id": "YV9aHTblJ1x_"
      },
      "execution_count": 29,
      "outputs": []
    },
    {
      "cell_type": "code",
      "source": [
        "model_2.fit(X_train, y_train)"
      ],
      "metadata": {
        "id": "hF-ymJtPJ9Fj"
      },
      "execution_count": null,
      "outputs": []
    },
    {
      "cell_type": "code",
      "source": [
        "train_preds = model_2.predict(X_train)\n",
        "test_preds = model_2.predict(X_test)"
      ],
      "metadata": {
        "id": "W9cFMP0PKAkF"
      },
      "execution_count": 31,
      "outputs": []
    },
    {
      "cell_type": "code",
      "source": [
        "print(f'r2_score con datos de entrenamiento: {r2_score(y_train, train_preds)}')\n",
        "print(f'r2_score con datos de test: {r2_score(y_test, test_preds)}')"
      ],
      "metadata": {
        "id": "5_GtKxSxKJJP"
      },
      "execution_count": null,
      "outputs": []
    },
    {
      "cell_type": "code",
      "source": [],
      "metadata": {
        "id": "HKzlaxwSqumV"
      },
      "execution_count": null,
      "outputs": []
    }
  ]
}